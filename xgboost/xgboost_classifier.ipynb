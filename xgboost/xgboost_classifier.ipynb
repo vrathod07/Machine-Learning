{
  "nbformat": 4,
  "nbformat_minor": 0,
  "metadata": {
    "colab": {
      "name": "xgboost_classifier.ipynb",
      "provenance": []
    },
    "kernelspec": {
      "name": "python3",
      "display_name": "Python 3"
    },
    "language_info": {
      "name": "python"
    }
  },
  "cells": [
    {
      "cell_type": "markdown",
      "metadata": {
        "id": "mhS2MN-WiwvM"
      },
      "source": [
        "## XGBOOST Classification"
      ]
    },
    {
      "cell_type": "markdown",
      "metadata": {
        "id": "VLaqLStiiwi6"
      },
      "source": [
        "##This is a basic implementation of xgbclassification. The notebook will guide you through how to import the data, process it, setup a xgb classification model, fit the model and finally different methods to evaluate it.\n"
      ]
    },
    {
      "cell_type": "code",
      "metadata": {
        "id": "I1Z3xjvpgjej"
      },
      "source": [
        "import xgboost as xgb\n",
        "import pandas as pd\n",
        "import numpy as np\n",
        "import matplotlib.pyplot as plt\n",
        "from sklearn.model_selection import train_test_split\n",
        "from sklearn.datasets import load_boston\n",
        "from sklearn.model_selection import train_test_split\n",
        "from sklearn.model_selection import cross_val_score, KFold\n",
        "from sklearn.metrics import mean_squared_error\n",
        "from sklearn.metrics import accuracy_score"
      ],
      "execution_count": null,
      "outputs": []
    },
    {
      "cell_type": "markdown",
      "metadata": {
        "id": "dA5a8pAnjPbF"
      },
      "source": [
        "##To check if you have imported the model correctly and it's working fine just run the below command to check the version."
      ]
    },
    {
      "cell_type": "code",
      "metadata": {
        "colab": {
          "base_uri": "https://localhost:8080/"
        },
        "id": "jdB4MhAliv02",
        "outputId": "e123c5b0-66b7-4bc0-bd14-697bc8df4559"
      },
      "source": [
        "print(xgb.__version__)"
      ],
      "execution_count": null,
      "outputs": [
        {
          "output_type": "stream",
          "text": [
            "0.90\n"
          ],
          "name": "stdout"
        }
      ]
    },
    {
      "cell_type": "markdown",
      "metadata": {
        "id": "WT8ik9lUjVx4"
      },
      "source": [
        "##We are using the heart attack data from kaggle. Check this site to download the dataset:[dataset](kaggle.com/rashikrahmanpritom/heart-attack-analysis-prediction-dataset?select=o2Saturation.csv)"
      ]
    },
    {
      "cell_type": "code",
      "metadata": {
        "id": "DTh5iTb7jS_n"
      },
      "source": [
        "data = pd.read_csv(\"heart.csv\")"
      ],
      "execution_count": null,
      "outputs": []
    },
    {
      "cell_type": "code",
      "metadata": {
        "colab": {
          "base_uri": "https://localhost:8080/",
          "height": 203
        },
        "id": "v-0F73zrkCt-",
        "outputId": "b0329a6f-cdc2-4ad0-bab7-33b877f9c4ff"
      },
      "source": [
        "data.head()"
      ],
      "execution_count": null,
      "outputs": [
        {
          "output_type": "execute_result",
          "data": {
            "text/html": [
              "<div>\n",
              "<style scoped>\n",
              "    .dataframe tbody tr th:only-of-type {\n",
              "        vertical-align: middle;\n",
              "    }\n",
              "\n",
              "    .dataframe tbody tr th {\n",
              "        vertical-align: top;\n",
              "    }\n",
              "\n",
              "    .dataframe thead th {\n",
              "        text-align: right;\n",
              "    }\n",
              "</style>\n",
              "<table border=\"1\" class=\"dataframe\">\n",
              "  <thead>\n",
              "    <tr style=\"text-align: right;\">\n",
              "      <th></th>\n",
              "      <th>age</th>\n",
              "      <th>sex</th>\n",
              "      <th>cp</th>\n",
              "      <th>trtbps</th>\n",
              "      <th>chol</th>\n",
              "      <th>fbs</th>\n",
              "      <th>restecg</th>\n",
              "      <th>thalachh</th>\n",
              "      <th>exng</th>\n",
              "      <th>oldpeak</th>\n",
              "      <th>slp</th>\n",
              "      <th>caa</th>\n",
              "      <th>thall</th>\n",
              "      <th>output</th>\n",
              "    </tr>\n",
              "  </thead>\n",
              "  <tbody>\n",
              "    <tr>\n",
              "      <th>0</th>\n",
              "      <td>63</td>\n",
              "      <td>1</td>\n",
              "      <td>3</td>\n",
              "      <td>145</td>\n",
              "      <td>233</td>\n",
              "      <td>1</td>\n",
              "      <td>0</td>\n",
              "      <td>150</td>\n",
              "      <td>0</td>\n",
              "      <td>2.3</td>\n",
              "      <td>0</td>\n",
              "      <td>0</td>\n",
              "      <td>1</td>\n",
              "      <td>1</td>\n",
              "    </tr>\n",
              "    <tr>\n",
              "      <th>1</th>\n",
              "      <td>37</td>\n",
              "      <td>1</td>\n",
              "      <td>2</td>\n",
              "      <td>130</td>\n",
              "      <td>250</td>\n",
              "      <td>0</td>\n",
              "      <td>1</td>\n",
              "      <td>187</td>\n",
              "      <td>0</td>\n",
              "      <td>3.5</td>\n",
              "      <td>0</td>\n",
              "      <td>0</td>\n",
              "      <td>2</td>\n",
              "      <td>1</td>\n",
              "    </tr>\n",
              "    <tr>\n",
              "      <th>2</th>\n",
              "      <td>41</td>\n",
              "      <td>0</td>\n",
              "      <td>1</td>\n",
              "      <td>130</td>\n",
              "      <td>204</td>\n",
              "      <td>0</td>\n",
              "      <td>0</td>\n",
              "      <td>172</td>\n",
              "      <td>0</td>\n",
              "      <td>1.4</td>\n",
              "      <td>2</td>\n",
              "      <td>0</td>\n",
              "      <td>2</td>\n",
              "      <td>1</td>\n",
              "    </tr>\n",
              "    <tr>\n",
              "      <th>3</th>\n",
              "      <td>56</td>\n",
              "      <td>1</td>\n",
              "      <td>1</td>\n",
              "      <td>120</td>\n",
              "      <td>236</td>\n",
              "      <td>0</td>\n",
              "      <td>1</td>\n",
              "      <td>178</td>\n",
              "      <td>0</td>\n",
              "      <td>0.8</td>\n",
              "      <td>2</td>\n",
              "      <td>0</td>\n",
              "      <td>2</td>\n",
              "      <td>1</td>\n",
              "    </tr>\n",
              "    <tr>\n",
              "      <th>4</th>\n",
              "      <td>57</td>\n",
              "      <td>0</td>\n",
              "      <td>0</td>\n",
              "      <td>120</td>\n",
              "      <td>354</td>\n",
              "      <td>0</td>\n",
              "      <td>1</td>\n",
              "      <td>163</td>\n",
              "      <td>1</td>\n",
              "      <td>0.6</td>\n",
              "      <td>2</td>\n",
              "      <td>0</td>\n",
              "      <td>2</td>\n",
              "      <td>1</td>\n",
              "    </tr>\n",
              "  </tbody>\n",
              "</table>\n",
              "</div>"
            ],
            "text/plain": [
              "   age  sex  cp  trtbps  chol  fbs  ...  exng  oldpeak  slp  caa  thall  output\n",
              "0   63    1   3     145   233    1  ...     0      2.3    0    0      1       1\n",
              "1   37    1   2     130   250    0  ...     0      3.5    0    0      2       1\n",
              "2   41    0   1     130   204    0  ...     0      1.4    2    0      2       1\n",
              "3   56    1   1     120   236    0  ...     0      0.8    2    0      2       1\n",
              "4   57    0   0     120   354    0  ...     1      0.6    2    0      2       1\n",
              "\n",
              "[5 rows x 14 columns]"
            ]
          },
          "metadata": {
            "tags": []
          },
          "execution_count": 9
        }
      ]
    },
    {
      "cell_type": "markdown",
      "metadata": {
        "id": "4gar6Hj1kXCH"
      },
      "source": [
        "#About the Data\n",
        "\n",
        "Age : Age of the patient\n",
        "\n",
        "Sex : Sex of the patient\n",
        "\n",
        "exang: exercise induced angina (1 = yes; 0 = no)\n",
        "\n",
        "ca: number of major vessels (0-3)\n",
        "\n",
        "cp : Chest Pain type chest pain type\n",
        "\n",
        "Value 1: typical angina\n",
        "Value 2: atypical angina\n",
        "Value 3: non-anginal pain\n",
        "Value 4: asymptomatic\n",
        "trtbps : resting blood pressure (in mm Hg)\n",
        "\n",
        "chol : cholestoral in mg/dl fetched via BMI sensor\n",
        "\n",
        "fbs : (fasting blood sugar > 120 mg/dl) (1 = true; 0 = false)\n",
        "\n",
        "rest_ecg : resting electrocardiographic results\n",
        "\n",
        "Value 0: normal\n",
        "Value 1: having ST-T wave abnormality (T wave inversions and/or ST elevation or depression of > 0.05 mV)\n",
        "Value 2: showing probable or definite left ventricular hypertrophy by Estes' criteria\n",
        "thalach : maximum heart rate achieved\n",
        "\n",
        "target : 0= less chance of heart attack 1= more chance of heart attack\n",
        "\n"
      ]
    },
    {
      "cell_type": "code",
      "metadata": {
        "colab": {
          "base_uri": "https://localhost:8080/"
        },
        "id": "SGFXgxYukDzo",
        "outputId": "af85dcdf-ea0b-4182-8819-9b915fa1915f"
      },
      "source": [
        "data.shape"
      ],
      "execution_count": null,
      "outputs": [
        {
          "output_type": "execute_result",
          "data": {
            "text/plain": [
              "(303, 14)"
            ]
          },
          "metadata": {
            "tags": []
          },
          "execution_count": 11
        }
      ]
    },
    {
      "cell_type": "code",
      "metadata": {
        "id": "Gb8Cc2Elkgdl"
      },
      "source": [
        "X, y = data.iloc[:,:-1], data.iloc[:,-1]"
      ],
      "execution_count": null,
      "outputs": []
    },
    {
      "cell_type": "code",
      "metadata": {
        "colab": {
          "base_uri": "https://localhost:8080/"
        },
        "id": "8WnZo6L_kobd",
        "outputId": "0ef7b6c0-ca85-41cf-f9de-6531862f5d38"
      },
      "source": [
        "X.shape, y.shape"
      ],
      "execution_count": null,
      "outputs": [
        {
          "output_type": "execute_result",
          "data": {
            "text/plain": [
              "((303, 13), (303,))"
            ]
          },
          "metadata": {
            "tags": []
          },
          "execution_count": 14
        }
      ]
    },
    {
      "cell_type": "code",
      "metadata": {
        "colab": {
          "base_uri": "https://localhost:8080/"
        },
        "id": "It5ySA7xks8x",
        "outputId": "54071231-dada-40f7-f854-b57b94d48384"
      },
      "source": [
        "X.isna().sum()"
      ],
      "execution_count": null,
      "outputs": [
        {
          "output_type": "execute_result",
          "data": {
            "text/plain": [
              "age         0\n",
              "sex         0\n",
              "cp          0\n",
              "trtbps      0\n",
              "chol        0\n",
              "fbs         0\n",
              "restecg     0\n",
              "thalachh    0\n",
              "exng        0\n",
              "oldpeak     0\n",
              "slp         0\n",
              "caa         0\n",
              "thall       0\n",
              "dtype: int64"
            ]
          },
          "metadata": {
            "tags": []
          },
          "execution_count": 15
        }
      ]
    },
    {
      "cell_type": "code",
      "metadata": {
        "colab": {
          "base_uri": "https://localhost:8080/"
        },
        "id": "a4Z-SRo0kxBf",
        "outputId": "4f4b7dea-a92f-47cc-df4c-23875b3834da"
      },
      "source": [
        "y.isna().sum()"
      ],
      "execution_count": null,
      "outputs": [
        {
          "output_type": "execute_result",
          "data": {
            "text/plain": [
              "0"
            ]
          },
          "metadata": {
            "tags": []
          },
          "execution_count": 17
        }
      ]
    },
    {
      "cell_type": "code",
      "metadata": {
        "colab": {
          "base_uri": "https://localhost:8080/"
        },
        "id": "XpoFAb0sk0GK",
        "outputId": "9e063df5-5a35-42c6-8fad-b57d4bc291a6"
      },
      "source": [
        "X.dtypes"
      ],
      "execution_count": null,
      "outputs": [
        {
          "output_type": "execute_result",
          "data": {
            "text/plain": [
              "age           int64\n",
              "sex           int64\n",
              "cp            int64\n",
              "trtbps        int64\n",
              "chol          int64\n",
              "fbs           int64\n",
              "restecg       int64\n",
              "thalachh      int64\n",
              "exng          int64\n",
              "oldpeak     float64\n",
              "slp           int64\n",
              "caa           int64\n",
              "thall         int64\n",
              "dtype: object"
            ]
          },
          "metadata": {
            "tags": []
          },
          "execution_count": 18
        }
      ]
    },
    {
      "cell_type": "code",
      "metadata": {
        "id": "CiZrPfP6k2w4"
      },
      "source": [
        "X_train, X_test, y_train, y_test = train_test_split(X,y,test_size=0.2,shuffle=True)"
      ],
      "execution_count": null,
      "outputs": []
    },
    {
      "cell_type": "markdown",
      "metadata": {
        "id": "otWHLG79mwpb"
      },
      "source": [
        "##XGClassifier is a method in xgb class which is used to build a regressor model. The parameters here are:\n",
        "1. max_depth: It is the max depth of the tree build by the xgbressor(It's usually 3 and doesn't have to go beyond 6, even for complex datasets)\n",
        "2. verbosity: The default value is 1 which is used to give warnings, here we have set it 0 in order to silent the warninigs.\n",
        "3. objective: Specifies the learning task, here we need it to classifiy n that's why its\"binary:logistic\" you can used different parameters for different purpouses.\n",
        "4. booster: relate to which booster we are using to do boosting, commonly tree or linear model"
      ]
    },
    {
      "cell_type": "code",
      "metadata": {
        "id": "kmYG73uplFNV",
        "colab": {
          "base_uri": "https://localhost:8080/"
        },
        "outputId": "03016674-7863-4410-c1e8-d7372850ef66"
      },
      "source": [
        "model = xgb.XGBClassifier(max_depth=3,learning_rate=0.4,verbosity=0,objective='binary:logistic',booster='gbtree')"
      ],
      "execution_count": null,
      "outputs": [
        {
          "output_type": "error",
          "ename": "NameError",
          "evalue": "ignored",
          "traceback": [
            "\u001b[0;31m---------------------------------------------------------------------------\u001b[0m",
            "\u001b[0;31mNameError\u001b[0m                                 Traceback (most recent call last)",
            "\u001b[0;32m<ipython-input-1-34e3884ef55a>\u001b[0m in \u001b[0;36m<module>\u001b[0;34m()\u001b[0m\n\u001b[0;32m----> 1\u001b[0;31m \u001b[0mmodel\u001b[0m \u001b[0;34m=\u001b[0m \u001b[0mxgb\u001b[0m\u001b[0;34m.\u001b[0m\u001b[0mXGBClassifier\u001b[0m\u001b[0;34m(\u001b[0m\u001b[0mmax_depth\u001b[0m\u001b[0;34m=\u001b[0m\u001b[0;36m3\u001b[0m\u001b[0;34m,\u001b[0m\u001b[0mlearning_rate\u001b[0m\u001b[0;34m=\u001b[0m\u001b[0;36m0.4\u001b[0m\u001b[0;34m,\u001b[0m\u001b[0mverbosity\u001b[0m\u001b[0;34m=\u001b[0m\u001b[0;36m0\u001b[0m\u001b[0;34m,\u001b[0m\u001b[0mobjective\u001b[0m\u001b[0;34m=\u001b[0m\u001b[0;34m'binary:logistic'\u001b[0m\u001b[0;34m,\u001b[0m\u001b[0mbooster\u001b[0m\u001b[0;34m=\u001b[0m\u001b[0;34m'gbtree'\u001b[0m\u001b[0;34m)\u001b[0m\u001b[0;34m\u001b[0m\u001b[0;34m\u001b[0m\u001b[0m\n\u001b[0m",
            "\u001b[0;31mNameError\u001b[0m: name 'xgb' is not defined"
          ]
        }
      ]
    },
    {
      "cell_type": "code",
      "metadata": {
        "colab": {
          "base_uri": "https://localhost:8080/"
        },
        "id": "FIH7z4-TlX05",
        "outputId": "efb697ee-e3dd-44f8-f7ff-b60b669fd0ad"
      },
      "source": [
        "model"
      ],
      "execution_count": null,
      "outputs": [
        {
          "output_type": "execute_result",
          "data": {
            "text/plain": [
              "XGBClassifier(base_score=0.5, booster='gbtree', colsample_bylevel=1,\n",
              "              colsample_bynode=1, colsample_bytree=1, gamma=0,\n",
              "              learning_rate=0.3, max_delta_step=0, max_depth=3,\n",
              "              min_child_weight=1, missing=None, n_estimators=100, n_jobs=1,\n",
              "              nthread=None, objective='binary:logistic', random_state=0,\n",
              "              reg_alpha=0, reg_lambda=1, scale_pos_weight=1, seed=None,\n",
              "              silent=None, subsample=1, verbosity=0)"
            ]
          },
          "metadata": {
            "tags": []
          },
          "execution_count": 21
        }
      ]
    },
    {
      "cell_type": "markdown",
      "metadata": {
        "id": "jZI2quzEmqgb"
      },
      "source": [
        "##The above output is the summary of the model "
      ]
    },
    {
      "cell_type": "markdown",
      "metadata": {
        "id": "plBEurELmkHT"
      },
      "source": [
        "## The data is fit on the model"
      ]
    },
    {
      "cell_type": "code",
      "metadata": {
        "colab": {
          "base_uri": "https://localhost:8080/"
        },
        "id": "Md2NvcpjlY5V",
        "outputId": "f9730e39-32f6-4754-ba1d-def08a3f3586"
      },
      "source": [
        "model.fit(X_train,y_train)"
      ],
      "execution_count": null,
      "outputs": [
        {
          "output_type": "execute_result",
          "data": {
            "text/plain": [
              "XGBClassifier(base_score=0.5, booster='gbtree', colsample_bylevel=1,\n",
              "              colsample_bynode=1, colsample_bytree=1, gamma=0,\n",
              "              learning_rate=0.3, max_delta_step=0, max_depth=3,\n",
              "              min_child_weight=1, missing=None, n_estimators=100, n_jobs=1,\n",
              "              nthread=None, objective='binary:logistic', random_state=0,\n",
              "              reg_alpha=0, reg_lambda=1, scale_pos_weight=1, seed=None,\n",
              "              silent=None, subsample=1, verbosity=0)"
            ]
          },
          "metadata": {
            "tags": []
          },
          "execution_count": 22
        }
      ]
    },
    {
      "cell_type": "markdown",
      "metadata": {
        "id": "LsPMgvWomggK"
      },
      "source": [
        "##To make predictions on the testing data we need to use **model.predict**"
      ]
    },
    {
      "cell_type": "code",
      "metadata": {
        "colab": {
          "base_uri": "https://localhost:8080/"
        },
        "id": "9TKxqHyDlhzS",
        "outputId": "aad3d385-45d3-4abe-9334-267d06544b1d"
      },
      "source": [
        "y = model.predict(X_test)\n",
        "y"
      ],
      "execution_count": null,
      "outputs": [
        {
          "output_type": "execute_result",
          "data": {
            "text/plain": [
              "array([1, 1, 0, 1, 1, 1, 1, 1, 1, 0, 0, 1, 1, 1, 0, 1, 1, 0, 1, 0, 0, 1,\n",
              "       0, 1, 0, 0, 0, 1, 0, 0, 0, 0, 1, 0, 1, 1, 1, 1, 1, 1, 1, 0, 0, 1,\n",
              "       0, 1, 1, 1, 0, 1, 0, 0, 1, 0, 0, 1, 0, 1, 1, 1, 0])"
            ]
          },
          "metadata": {
            "tags": []
          },
          "execution_count": 24
        }
      ]
    },
    {
      "cell_type": "markdown",
      "metadata": {
        "id": "LA2YOQjLmb1W"
      },
      "source": [
        "##Different Evaluation metrics"
      ]
    },
    {
      "cell_type": "markdown",
      "metadata": {
        "id": "3bD7p9WBmTw0"
      },
      "source": [
        "##Testing Accuracy"
      ]
    },
    {
      "cell_type": "code",
      "metadata": {
        "colab": {
          "base_uri": "https://localhost:8080/"
        },
        "id": "uvMl6GSglczM",
        "outputId": "72f3a852-7461-4cbe-e9db-90810900ae38"
      },
      "source": [
        "accuracy = accuracy_score(y_test,y)\n",
        "print(accuracy)"
      ],
      "execution_count": null,
      "outputs": [
        {
          "output_type": "stream",
          "text": [
            "0.8360655737704918\n"
          ],
          "name": "stdout"
        }
      ]
    },
    {
      "cell_type": "markdown",
      "metadata": {
        "id": "FHLvzgE8mPEx"
      },
      "source": [
        "#Trainig Accuracy"
      ]
    },
    {
      "cell_type": "code",
      "metadata": {
        "colab": {
          "base_uri": "https://localhost:8080/"
        },
        "id": "9aO3GM4hlog0",
        "outputId": "bb4118a0-03f8-4e97-ca68-41d0bba8e171"
      },
      "source": [
        "score = model.score(X_train, y_train)   \n",
        "print(\"Training score: \", score) "
      ],
      "execution_count": null,
      "outputs": [
        {
          "output_type": "stream",
          "text": [
            "Training score:  1.0\n"
          ],
          "name": "stdout"
        }
      ]
    },
    {
      "cell_type": "markdown",
      "metadata": {
        "id": "mMNmkES3mL3I"
      },
      "source": [
        "#Cross Validation Score"
      ]
    },
    {
      "cell_type": "code",
      "metadata": {
        "colab": {
          "base_uri": "https://localhost:8080/"
        },
        "id": "GVaJJhMpl4Ir",
        "outputId": "1115a2c0-d303-425c-fee3-12ae53d9dd30"
      },
      "source": [
        "# - cross validataion \n",
        "scores = cross_val_score(model, X_train, y_train, cv=5)\n",
        "print(\"Mean cross-validation score: %.2f\" % scores.mean())"
      ],
      "execution_count": null,
      "outputs": [
        {
          "output_type": "stream",
          "text": [
            "Mean cross-validation score: 0.79\n"
          ],
          "name": "stdout"
        }
      ]
    },
    {
      "cell_type": "markdown",
      "metadata": {
        "id": "iqXLlEtGmKRP"
      },
      "source": [
        "##K Fold Score"
      ]
    },
    {
      "cell_type": "code",
      "metadata": {
        "colab": {
          "base_uri": "https://localhost:8080/"
        },
        "id": "s-CWr2ytl68W",
        "outputId": "3e45564f-dd70-485f-972b-c7ed33ec50f5"
      },
      "source": [
        "kfold = KFold(n_splits=10, shuffle=True)\n",
        "kf_cv_scores = cross_val_score(model, X_train, y_train, cv=kfold )\n",
        "print(\"K-fold CV average score: %.2f\" % kf_cv_scores.mean())"
      ],
      "execution_count": null,
      "outputs": [
        {
          "output_type": "stream",
          "text": [
            "K-fold CV average score: 0.79\n"
          ],
          "name": "stdout"
        }
      ]
    },
    {
      "cell_type": "code",
      "metadata": {
        "id": "-sIJmoMSl-Ku"
      },
      "source": [
        ""
      ],
      "execution_count": null,
      "outputs": []
    }
  ]
}