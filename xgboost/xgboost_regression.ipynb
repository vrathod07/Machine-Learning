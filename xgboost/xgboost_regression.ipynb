{
  "nbformat": 4,
  "nbformat_minor": 0,
  "metadata": {
    "colab": {
      "name": "xgboost_regression.ipynb",
      "provenance": []
    },
    "kernelspec": {
      "name": "python3",
      "display_name": "Python 3"
    },
    "language_info": {
      "name": "python"
    }
  },
  "cells": [
    {
      "cell_type": "markdown",
      "metadata": {
        "id": "1jem4i58OdVk"
      },
      "source": [
        "## XGBOOST Regression"
      ]
    },
    {
      "cell_type": "markdown",
      "metadata": {
        "id": "PD7NvxuSOg25"
      },
      "source": [
        "##This is a basic implementation of xgbregression. The notebook will guide you through how to import the data, process it, setup a xgb regression model, fit the model and finally different methods to evaluate it."
      ]
    },
    {
      "cell_type": "code",
      "metadata": {
        "id": "eHmFfK1Ne6Ys"
      },
      "source": [
        "import xgboost as xgb\n",
        "import pandas as pd\n",
        "import numpy as np\n",
        "import matplotlib.pyplot as plt\n",
        "from sklearn.model_selection import train_test_split\n",
        "from sklearn.datasets import load_boston\n",
        "from sklearn.model_selection import train_test_split\n",
        "from sklearn.model_selection import cross_val_score, KFold\n",
        "from sklearn.metrics import mean_squared_error\n",
        "from sklearn.metrics import accuracy_score"
      ],
      "execution_count": null,
      "outputs": []
    },
    {
      "cell_type": "markdown",
      "metadata": {
        "id": "uDZQqXJcPDMp"
      },
      "source": [
        "##To check if you have imported the model correctly and it's working fine just run the below command to check the version."
      ]
    },
    {
      "cell_type": "code",
      "metadata": {
        "colab": {
          "base_uri": "https://localhost:8080/"
        },
        "id": "bmC0T1NIfEHg",
        "outputId": "e509fea9-31f1-4d8f-93ef-142c49568ffd"
      },
      "source": [
        "print(xgb.__version__)"
      ],
      "execution_count": null,
      "outputs": [
        {
          "output_type": "stream",
          "text": [
            "0.90\n"
          ],
          "name": "stdout"
        }
      ]
    },
    {
      "cell_type": "markdown",
      "metadata": {
        "id": "kHKgQfGqPVGO"
      },
      "source": [
        "##We are using the winequality data from kaggle. Check this site to download the dataset: [dataset](https://www.kaggle.com/uciml/red-wine-quality-cortez-et-al-2009)"
      ]
    },
    {
      "cell_type": "code",
      "metadata": {
        "id": "OVHq6efMfMeI"
      },
      "source": [
        "data = pd.read_csv(\"winequality-red.csv\")"
      ],
      "execution_count": null,
      "outputs": []
    },
    {
      "cell_type": "markdown",
      "metadata": {
        "id": "vMXeuUWhP27P"
      },
      "source": [
        "##We are just checking few columns of the datset to get the idea of how it is."
      ]
    },
    {
      "cell_type": "code",
      "metadata": {
        "colab": {
          "base_uri": "https://localhost:8080/",
          "height": 220
        },
        "id": "R7Wp6LL5fqyh",
        "outputId": "c337bd1c-912b-4005-d09f-055bdadc6434"
      },
      "source": [
        "data.head()"
      ],
      "execution_count": null,
      "outputs": [
        {
          "output_type": "execute_result",
          "data": {
            "text/html": [
              "<div>\n",
              "<style scoped>\n",
              "    .dataframe tbody tr th:only-of-type {\n",
              "        vertical-align: middle;\n",
              "    }\n",
              "\n",
              "    .dataframe tbody tr th {\n",
              "        vertical-align: top;\n",
              "    }\n",
              "\n",
              "    .dataframe thead th {\n",
              "        text-align: right;\n",
              "    }\n",
              "</style>\n",
              "<table border=\"1\" class=\"dataframe\">\n",
              "  <thead>\n",
              "    <tr style=\"text-align: right;\">\n",
              "      <th></th>\n",
              "      <th>fixed acidity</th>\n",
              "      <th>volatile acidity</th>\n",
              "      <th>citric acid</th>\n",
              "      <th>residual sugar</th>\n",
              "      <th>chlorides</th>\n",
              "      <th>free sulfur dioxide</th>\n",
              "      <th>total sulfur dioxide</th>\n",
              "      <th>density</th>\n",
              "      <th>pH</th>\n",
              "      <th>sulphates</th>\n",
              "      <th>alcohol</th>\n",
              "      <th>quality</th>\n",
              "    </tr>\n",
              "  </thead>\n",
              "  <tbody>\n",
              "    <tr>\n",
              "      <th>0</th>\n",
              "      <td>7.4</td>\n",
              "      <td>0.70</td>\n",
              "      <td>0.00</td>\n",
              "      <td>1.9</td>\n",
              "      <td>0.076</td>\n",
              "      <td>11.0</td>\n",
              "      <td>34.0</td>\n",
              "      <td>0.9978</td>\n",
              "      <td>3.51</td>\n",
              "      <td>0.56</td>\n",
              "      <td>9.4</td>\n",
              "      <td>5</td>\n",
              "    </tr>\n",
              "    <tr>\n",
              "      <th>1</th>\n",
              "      <td>7.8</td>\n",
              "      <td>0.88</td>\n",
              "      <td>0.00</td>\n",
              "      <td>2.6</td>\n",
              "      <td>0.098</td>\n",
              "      <td>25.0</td>\n",
              "      <td>67.0</td>\n",
              "      <td>0.9968</td>\n",
              "      <td>3.20</td>\n",
              "      <td>0.68</td>\n",
              "      <td>9.8</td>\n",
              "      <td>5</td>\n",
              "    </tr>\n",
              "    <tr>\n",
              "      <th>2</th>\n",
              "      <td>7.8</td>\n",
              "      <td>0.76</td>\n",
              "      <td>0.04</td>\n",
              "      <td>2.3</td>\n",
              "      <td>0.092</td>\n",
              "      <td>15.0</td>\n",
              "      <td>54.0</td>\n",
              "      <td>0.9970</td>\n",
              "      <td>3.26</td>\n",
              "      <td>0.65</td>\n",
              "      <td>9.8</td>\n",
              "      <td>5</td>\n",
              "    </tr>\n",
              "    <tr>\n",
              "      <th>3</th>\n",
              "      <td>11.2</td>\n",
              "      <td>0.28</td>\n",
              "      <td>0.56</td>\n",
              "      <td>1.9</td>\n",
              "      <td>0.075</td>\n",
              "      <td>17.0</td>\n",
              "      <td>60.0</td>\n",
              "      <td>0.9980</td>\n",
              "      <td>3.16</td>\n",
              "      <td>0.58</td>\n",
              "      <td>9.8</td>\n",
              "      <td>6</td>\n",
              "    </tr>\n",
              "    <tr>\n",
              "      <th>4</th>\n",
              "      <td>7.4</td>\n",
              "      <td>0.70</td>\n",
              "      <td>0.00</td>\n",
              "      <td>1.9</td>\n",
              "      <td>0.076</td>\n",
              "      <td>11.0</td>\n",
              "      <td>34.0</td>\n",
              "      <td>0.9978</td>\n",
              "      <td>3.51</td>\n",
              "      <td>0.56</td>\n",
              "      <td>9.4</td>\n",
              "      <td>5</td>\n",
              "    </tr>\n",
              "  </tbody>\n",
              "</table>\n",
              "</div>"
            ],
            "text/plain": [
              "   fixed acidity  volatile acidity  citric acid  ...  sulphates  alcohol  quality\n",
              "0            7.4              0.70         0.00  ...       0.56      9.4        5\n",
              "1            7.8              0.88         0.00  ...       0.68      9.8        5\n",
              "2            7.8              0.76         0.04  ...       0.65      9.8        5\n",
              "3           11.2              0.28         0.56  ...       0.58      9.8        6\n",
              "4            7.4              0.70         0.00  ...       0.56      9.4        5\n",
              "\n",
              "[5 rows x 12 columns]"
            ]
          },
          "metadata": {
            "tags": []
          },
          "execution_count": 5
        }
      ]
    },
    {
      "cell_type": "markdown",
      "metadata": {
        "id": "JTz4UpOEQDen"
      },
      "source": [
        "##The dataset has shape of (1599,12) which means that we have 11 features (last one  beign the target ) and 1599 entities"
      ]
    },
    {
      "cell_type": "code",
      "metadata": {
        "colab": {
          "base_uri": "https://localhost:8080/"
        },
        "id": "riiIKnLvfr4F",
        "outputId": "bfc653d6-e545-4376-eb6f-1237bfc1e636"
      },
      "source": [
        "data.shape"
      ],
      "execution_count": null,
      "outputs": [
        {
          "output_type": "execute_result",
          "data": {
            "text/plain": [
              "(1599, 12)"
            ]
          },
          "metadata": {
            "tags": []
          },
          "execution_count": 6
        }
      ]
    },
    {
      "cell_type": "markdown",
      "metadata": {
        "id": "RTI1U5ZCQXyU"
      },
      "source": [
        "##In the below step we are just seprating The target value from the features. Assining y the last column(i.e. the score column)"
      ]
    },
    {
      "cell_type": "code",
      "metadata": {
        "id": "zOO2hgGzf3bO"
      },
      "source": [
        "X,y = data.iloc[:,:-1],data.iloc[:,-1]"
      ],
      "execution_count": null,
      "outputs": []
    },
    {
      "cell_type": "code",
      "metadata": {
        "colab": {
          "base_uri": "https://localhost:8080/"
        },
        "id": "DkxhyXg3gOCk",
        "outputId": "61b087eb-9d2c-4521-d4fa-6d4820d6b191"
      },
      "source": [
        "X.shape, y.shape"
      ],
      "execution_count": null,
      "outputs": [
        {
          "output_type": "execute_result",
          "data": {
            "text/plain": [
              "((1599, 11), (1599,))"
            ]
          },
          "metadata": {
            "tags": []
          },
          "execution_count": 8
        }
      ]
    },
    {
      "cell_type": "markdown",
      "metadata": {
        "id": "ck8AU2UiQnjC"
      },
      "source": [
        "##Before we build the model we need to seprate the model into training and testing datsets using train-test_split from sklearn. Here the test size is 20% of the original data and we have assingned **True** to shuffle, in order to get better sepration of data(you can leave it to default value of false)"
      ]
    },
    {
      "cell_type": "code",
      "metadata": {
        "id": "nWN4M1GwgTU7"
      },
      "source": [
        "X_train, X_test, y_train, y_test = train_test_split(X,y,test_size = 0.2, shuffle=True)"
      ],
      "execution_count": null,
      "outputs": []
    },
    {
      "cell_type": "code",
      "metadata": {
        "colab": {
          "base_uri": "https://localhost:8080/"
        },
        "id": "Pq1T1IJugf1A",
        "outputId": "74c403d1-0138-43c3-8f9d-c21dc6e17b94"
      },
      "source": [
        "X_train.shape,X_test.shape,y_train.shape,y_test.shape"
      ],
      "execution_count": null,
      "outputs": [
        {
          "output_type": "execute_result",
          "data": {
            "text/plain": [
              "((1279, 11), (320, 11), (1279,), (320,))"
            ]
          },
          "metadata": {
            "tags": []
          },
          "execution_count": 10
        }
      ]
    },
    {
      "cell_type": "markdown",
      "metadata": {
        "id": "w-mN6gldRcHH"
      },
      "source": [
        "#Processing the data"
      ]
    },
    {
      "cell_type": "code",
      "metadata": {
        "colab": {
          "base_uri": "https://localhost:8080/"
        },
        "id": "PgvXjk9aj_yu",
        "outputId": "586cc175-9744-45bd-e6c6-f55d883ce8a4"
      },
      "source": [
        "X_train.isna().sum()"
      ],
      "execution_count": null,
      "outputs": [
        {
          "output_type": "execute_result",
          "data": {
            "text/plain": [
              "fixed acidity           0\n",
              "volatile acidity        0\n",
              "citric acid             0\n",
              "residual sugar          0\n",
              "chlorides               0\n",
              "free sulfur dioxide     0\n",
              "total sulfur dioxide    0\n",
              "density                 0\n",
              "pH                      0\n",
              "sulphates               0\n",
              "alcohol                 0\n",
              "dtype: int64"
            ]
          },
          "metadata": {
            "tags": []
          },
          "execution_count": 11
        }
      ]
    },
    {
      "cell_type": "code",
      "metadata": {
        "colab": {
          "base_uri": "https://localhost:8080/"
        },
        "id": "Q9yMIPD-kJHB",
        "outputId": "8dabdcfa-83c7-4c0e-9ef4-7d8b27c48bd0"
      },
      "source": [
        "y_train.isna().sum()"
      ],
      "execution_count": null,
      "outputs": [
        {
          "output_type": "execute_result",
          "data": {
            "text/plain": [
              "0"
            ]
          },
          "metadata": {
            "tags": []
          },
          "execution_count": 12
        }
      ]
    },
    {
      "cell_type": "markdown",
      "metadata": {
        "id": "9CtnL9GlRhKc"
      },
      "source": [
        "##As the sum of all the null values is 0 in trainig set it means that we don't have any null values."
      ]
    },
    {
      "cell_type": "code",
      "metadata": {
        "colab": {
          "base_uri": "https://localhost:8080/"
        },
        "id": "Nl6JdD9ikMmY",
        "outputId": "78af0a03-2f7b-4e6c-a9e8-5b4e65bcf44d"
      },
      "source": [
        "X_train.dtypes"
      ],
      "execution_count": null,
      "outputs": [
        {
          "output_type": "execute_result",
          "data": {
            "text/plain": [
              "fixed acidity           float64\n",
              "volatile acidity        float64\n",
              "citric acid             float64\n",
              "residual sugar          float64\n",
              "chlorides               float64\n",
              "free sulfur dioxide     float64\n",
              "total sulfur dioxide    float64\n",
              "density                 float64\n",
              "pH                      float64\n",
              "sulphates               float64\n",
              "alcohol                 float64\n",
              "dtype: object"
            ]
          },
          "metadata": {
            "tags": []
          },
          "execution_count": 13
        }
      ]
    },
    {
      "cell_type": "markdown",
      "metadata": {
        "id": "j1_9ps19RvDr"
      },
      "source": [
        "##Check for the datatypes of the features. If any of them is not integer of float we would have to convert it into integer or float accordingly. Here we dont need to anything like it."
      ]
    },
    {
      "cell_type": "code",
      "metadata": {
        "colab": {
          "base_uri": "https://localhost:8080/"
        },
        "id": "LX3QArvxkO7E",
        "outputId": "fdfec2bd-7e0d-4276-ed61-de58e6f9fdd7"
      },
      "source": [
        "X[\"fixed acidity\"].unique().shape,X[\"volatile acidity\"].unique().shape"
      ],
      "execution_count": null,
      "outputs": [
        {
          "output_type": "execute_result",
          "data": {
            "text/plain": [
              "((96,), (143,))"
            ]
          },
          "metadata": {
            "tags": []
          },
          "execution_count": 14
        }
      ]
    },
    {
      "cell_type": "markdown",
      "metadata": {
        "id": "Ou9tlo0FSAiT"
      },
      "source": [
        "# Build a model"
      ]
    },
    {
      "cell_type": "code",
      "metadata": {
        "id": "ysciPQOZkfTK"
      },
      "source": [
        "model = xgb.XGBRegressor(max_depth=3,learning_rate=0.3,verbosity=0,objective='reg:linear',booster='gbtree')"
      ],
      "execution_count": null,
      "outputs": []
    },
    {
      "cell_type": "markdown",
      "metadata": {
        "id": "7hlUzHWNSGfY"
      },
      "source": [
        "##XGBRegressor is a method in xgb class which is used to build a regressor model. The parameters here are:\n",
        "1. max_depth: It is the max depth of the tree build by the xgbressor(It's usually 3 and doesn't have to go beyond 6, even for complex datasets)\n",
        "2. verbosity: The default value is 1 which is used to give warnings, here we have set it 0 in order to silent the warninigs.\n",
        "3. objective: Specifies the learning task, here we need it to linear regression that's why its\"reg:linear\" you can used different parameters for different purpouses.\n",
        "4. booster: relate to which booster we are using to do boosting, commonly tree or linear model"
      ]
    },
    {
      "cell_type": "code",
      "metadata": {
        "colab": {
          "base_uri": "https://localhost:8080/"
        },
        "id": "TntgH-L1nYD8",
        "outputId": "e4612dd3-2022-47c2-a3bf-744052a93371"
      },
      "source": [
        "print(model)"
      ],
      "execution_count": null,
      "outputs": [
        {
          "output_type": "stream",
          "text": [
            "XGBRegressor(base_score=0.5, booster='gbtree', colsample_bylevel=1,\n",
            "             colsample_bynode=1, colsample_bytree=1, gamma=0,\n",
            "             importance_type='gain', learning_rate=0.3, max_delta_step=0,\n",
            "             max_depth=3, min_child_weight=1, missing=None, n_estimators=100,\n",
            "             n_jobs=1, nthread=None, objective='reg:linear', random_state=0,\n",
            "             reg_alpha=0, reg_lambda=1, scale_pos_weight=1, seed=None,\n",
            "             silent=None, subsample=1, verbosity=0)\n"
          ],
          "name": "stdout"
        }
      ]
    },
    {
      "cell_type": "markdown",
      "metadata": {
        "id": "sdoT1ookTb7R"
      },
      "source": [
        "##The above output is the summary of the model "
      ]
    },
    {
      "cell_type": "markdown",
      "metadata": {
        "id": "W09zhHygTwvf"
      },
      "source": [
        "## The data is fit on the model"
      ]
    },
    {
      "cell_type": "code",
      "metadata": {
        "colab": {
          "base_uri": "https://localhost:8080/"
        },
        "id": "vYbuaRQcnZYU",
        "outputId": "7ef05dcb-edee-484f-cb57-ea0fd8a6c739"
      },
      "source": [
        "model.fit(X_train,y_train)"
      ],
      "execution_count": null,
      "outputs": [
        {
          "output_type": "execute_result",
          "data": {
            "text/plain": [
              "XGBRegressor(base_score=0.5, booster='gbtree', colsample_bylevel=1,\n",
              "             colsample_bynode=1, colsample_bytree=1, gamma=0,\n",
              "             importance_type='gain', learning_rate=0.3, max_delta_step=0,\n",
              "             max_depth=3, min_child_weight=1, missing=None, n_estimators=100,\n",
              "             n_jobs=1, nthread=None, objective='reg:linear', random_state=0,\n",
              "             reg_alpha=0, reg_lambda=1, scale_pos_weight=1, seed=None,\n",
              "             silent=None, subsample=1, verbosity=0)"
            ]
          },
          "metadata": {
            "tags": []
          },
          "execution_count": 17
        }
      ]
    },
    {
      "cell_type": "markdown",
      "metadata": {
        "id": "eKfYeq9yTh-Q"
      },
      "source": [
        "##To make predictions on the testing data we need to use **model.predict**, in order to get whole numbers here the predictions are rounded.(They do not have any effect on the accuracy of the model)"
      ]
    },
    {
      "cell_type": "code",
      "metadata": {
        "id": "jI8GS5MxngB7",
        "colab": {
          "base_uri": "https://localhost:8080/"
        },
        "outputId": "40747dfe-cc8a-46f8-9907-597456b6d392"
      },
      "source": [
        "y = model.predict(X_test)\n",
        "predictions = [round(value) for value in y]\n",
        "print(predictions)"
      ],
      "execution_count": null,
      "outputs": [
        {
          "output_type": "stream",
          "text": [
            "[5, 6, 5, 5, 6, 4, 6, 7, 7, 5, 6, 6, 6, 5, 6, 5, 6, 6, 5, 6, 5, 6, 5, 5, 5, 6, 5, 6, 6, 6, 5, 5, 5, 6, 5, 6, 6, 5, 5, 6, 5, 6, 5, 6, 5, 5, 5, 6, 5, 6, 5, 6, 6, 5, 5, 6, 5, 5, 5, 6, 7, 5, 5, 6, 4, 5, 5, 6, 6, 7, 6, 6, 6, 6, 6, 7, 6, 6, 6, 5, 7, 6, 6, 6, 6, 7, 6, 6, 7, 5, 6, 5, 6, 5, 5, 6, 6, 5, 6, 5, 6, 6, 6, 5, 5, 7, 6, 5, 6, 5, 7, 7, 7, 5, 5, 5, 7, 5, 5, 6, 5, 6, 5, 6, 5, 7, 6, 6, 6, 7, 5, 6, 5, 6, 6, 7, 7, 6, 5, 5, 5, 6, 6, 6, 5, 6, 6, 6, 5, 5, 5, 5, 5, 7, 5, 6, 6, 7, 7, 6, 6, 5, 6, 6, 5, 5, 6, 6, 6, 5, 6, 5, 6, 5, 5, 5, 5, 6, 6, 5, 6, 6, 7, 6, 6, 4, 6, 5, 6, 7, 6, 5, 6, 6, 5, 5, 5, 5, 5, 5, 6, 6, 5, 7, 6, 5, 5, 5, 5, 5, 5, 6, 7, 5, 5, 5, 7, 5, 6, 7, 6, 5, 6, 5, 5, 6, 6, 5, 6, 6, 6, 6, 7, 5, 7, 5, 5, 6, 5, 5, 6, 6, 5, 6, 5, 5, 5, 5, 5, 5, 6, 5, 6, 6, 6, 5, 5, 5, 5, 7, 7, 6, 5, 6, 6, 5, 7, 6, 5, 6, 5, 4, 6, 5, 7, 5, 6, 6, 5, 5, 6, 6, 7, 5, 5, 6, 5, 7, 6, 5, 6, 6, 5, 5, 5, 7, 6, 5, 6, 5, 5, 6, 5, 7, 6, 5, 7, 5, 5, 6, 7, 6, 7, 5, 5, 6, 6, 5, 5, 5]\n"
          ],
          "name": "stdout"
        }
      ]
    },
    {
      "cell_type": "markdown",
      "metadata": {
        "id": "0kKCV-JKVSg6"
      },
      "source": [
        "##Different Evaluation metrics"
      ]
    },
    {
      "cell_type": "markdown",
      "metadata": {
        "id": "saMqoMclVHpP"
      },
      "source": [
        "##This is an inbuilt accuracy method in sklearn to measure the accuracy of the model"
      ]
    },
    {
      "cell_type": "code",
      "metadata": {
        "colab": {
          "base_uri": "https://localhost:8080/"
        },
        "id": "rXx-4ZBFv8RS",
        "outputId": "17c7f1d6-7aaf-47d0-862d-1b4f3296f5b4"
      },
      "source": [
        "accuracy = accuracy_score(y_test,predictions)\n",
        "print(accuracy)"
      ],
      "execution_count": null,
      "outputs": [
        {
          "output_type": "stream",
          "text": [
            "0.603125\n"
          ],
          "name": "stdout"
        }
      ]
    },
    {
      "cell_type": "markdown",
      "metadata": {
        "id": "P6SVf230VQQP"
      },
      "source": [
        "## This is root mean squared error for all the entities of the data"
      ]
    },
    {
      "cell_type": "code",
      "metadata": {
        "colab": {
          "base_uri": "https://localhost:8080/"
        },
        "id": "xcrewzcbni_o",
        "outputId": "90448794-73d8-4e67-9d93-b1c08e760d08"
      },
      "source": [
        "rmse = np.sqrt((y - y_test)**2)\n",
        "rmse"
      ],
      "execution_count": null,
      "outputs": [
        {
          "output_type": "execute_result",
          "data": {
            "text/plain": [
              "1012    0.421551\n",
              "658     0.583838\n",
              "1483    1.201342\n",
              "1552    0.843307\n",
              "1311    0.168949\n",
              "          ...   \n",
              "1044    0.383334\n",
              "497     0.881669\n",
              "89      0.142319\n",
              "1062    0.204480\n",
              "946     0.119686\n",
              "Name: quality, Length: 320, dtype: float64"
            ]
          },
          "metadata": {
            "tags": []
          },
          "execution_count": 48
        }
      ]
    },
    {
      "cell_type": "markdown",
      "metadata": {
        "id": "0Fg2rqFMV-1i"
      },
      "source": [
        "#The training score, i.e. how well the model performed in training data"
      ]
    },
    {
      "cell_type": "code",
      "metadata": {
        "colab": {
          "base_uri": "https://localhost:8080/"
        },
        "id": "86p0xnjZnuXB",
        "outputId": "3c94e74c-0fc5-4206-e689-7ac2d9de2a14"
      },
      "source": [
        "score = model.score(X_train, y_train)   \n",
        "print(\"Training score: \", score) "
      ],
      "execution_count": null,
      "outputs": [
        {
          "output_type": "stream",
          "text": [
            "Training score:  0.7983299484360415\n"
          ],
          "name": "stdout"
        }
      ]
    },
    {
      "cell_type": "markdown",
      "metadata": {
        "id": "Xzd4eiz9WJ5W"
      },
      "source": [
        "##The cross validation score"
      ]
    },
    {
      "cell_type": "code",
      "metadata": {
        "colab": {
          "base_uri": "https://localhost:8080/"
        },
        "id": "lUzms1Ujn0JN",
        "outputId": "ebd48ce3-3b22-4914-a93b-bf04b98ca325"
      },
      "source": [
        "# - cross validataion \n",
        "scores = cross_val_score(model, X_train, y_train, cv=5)\n",
        "print(\"Mean cross-validation score: %.2f\" % scores.mean())"
      ],
      "execution_count": null,
      "outputs": [
        {
          "output_type": "stream",
          "text": [
            "Mean cross-validation score: 0.36\n"
          ],
          "name": "stdout"
        }
      ]
    },
    {
      "cell_type": "markdown",
      "metadata": {
        "id": "uaDPNIQUWOE8"
      },
      "source": [
        "##K Fold Score"
      ]
    },
    {
      "cell_type": "code",
      "metadata": {
        "colab": {
          "base_uri": "https://localhost:8080/"
        },
        "id": "1wczXq9qvbCe",
        "outputId": "ee3c41d5-57b3-4a4c-bf69-c5ece34e62a8"
      },
      "source": [
        "kfold = KFold(n_splits=10, shuffle=True)\n",
        "kf_cv_scores = cross_val_score(model, X_train, y_train, cv=kfold )\n",
        "print(\"K-fold CV average score: %.2f\" % kf_cv_scores.mean())"
      ],
      "execution_count": null,
      "outputs": [
        {
          "output_type": "stream",
          "text": [
            "K-fold CV average score: 0.37\n"
          ],
          "name": "stdout"
        }
      ]
    },
    {
      "cell_type": "code",
      "metadata": {
        "id": "l3Bi4t6Vvsp1"
      },
      "source": [
        ""
      ],
      "execution_count": null,
      "outputs": []
    }
  ]
}