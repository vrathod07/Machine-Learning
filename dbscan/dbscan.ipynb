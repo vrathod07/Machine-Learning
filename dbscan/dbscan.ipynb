{
  "nbformat": 4,
  "nbformat_minor": 0,
  "metadata": {
    "colab": {
      "name": "dbscan.ipynb",
      "provenance": []
    },
    "kernelspec": {
      "name": "python3",
      "display_name": "Python 3"
    },
    "language_info": {
      "name": "python"
    }
  },
  "cells": [
    {
      "cell_type": "code",
      "metadata": {
        "id": "OHJwKjUTE1pg"
      },
      "source": [
        "import pandas as pd\n",
        "from sklearn.cluster import DBSCAN\n",
        "import numpy as np\n",
        "from sklearn.preprocessing import StandardScaler"
      ],
      "execution_count": 80,
      "outputs": []
    },
    {
      "cell_type": "code",
      "metadata": {
        "id": "qo3C3fksFDam"
      },
      "source": [
        "data = pd.read_csv(\"Mall_Customers.csv\")"
      ],
      "execution_count": 81,
      "outputs": []
    },
    {
      "cell_type": "code",
      "metadata": {
        "colab": {
          "base_uri": "https://localhost:8080/",
          "height": 203
        },
        "id": "Kv_fL9nrFPPu",
        "outputId": "d7b9fdb9-551f-4fcc-ac4d-99d96716016c"
      },
      "source": [
        "data.head()"
      ],
      "execution_count": 82,
      "outputs": [
        {
          "output_type": "execute_result",
          "data": {
            "text/html": [
              "<div>\n",
              "<style scoped>\n",
              "    .dataframe tbody tr th:only-of-type {\n",
              "        vertical-align: middle;\n",
              "    }\n",
              "\n",
              "    .dataframe tbody tr th {\n",
              "        vertical-align: top;\n",
              "    }\n",
              "\n",
              "    .dataframe thead th {\n",
              "        text-align: right;\n",
              "    }\n",
              "</style>\n",
              "<table border=\"1\" class=\"dataframe\">\n",
              "  <thead>\n",
              "    <tr style=\"text-align: right;\">\n",
              "      <th></th>\n",
              "      <th>CustomerID</th>\n",
              "      <th>Genre</th>\n",
              "      <th>Age</th>\n",
              "      <th>Annual Income (k$)</th>\n",
              "      <th>Spending Score (1-100)</th>\n",
              "    </tr>\n",
              "  </thead>\n",
              "  <tbody>\n",
              "    <tr>\n",
              "      <th>0</th>\n",
              "      <td>1</td>\n",
              "      <td>Male</td>\n",
              "      <td>19</td>\n",
              "      <td>15</td>\n",
              "      <td>39</td>\n",
              "    </tr>\n",
              "    <tr>\n",
              "      <th>1</th>\n",
              "      <td>2</td>\n",
              "      <td>Male</td>\n",
              "      <td>21</td>\n",
              "      <td>15</td>\n",
              "      <td>81</td>\n",
              "    </tr>\n",
              "    <tr>\n",
              "      <th>2</th>\n",
              "      <td>3</td>\n",
              "      <td>Female</td>\n",
              "      <td>20</td>\n",
              "      <td>16</td>\n",
              "      <td>6</td>\n",
              "    </tr>\n",
              "    <tr>\n",
              "      <th>3</th>\n",
              "      <td>4</td>\n",
              "      <td>Female</td>\n",
              "      <td>23</td>\n",
              "      <td>16</td>\n",
              "      <td>77</td>\n",
              "    </tr>\n",
              "    <tr>\n",
              "      <th>4</th>\n",
              "      <td>5</td>\n",
              "      <td>Female</td>\n",
              "      <td>31</td>\n",
              "      <td>17</td>\n",
              "      <td>40</td>\n",
              "    </tr>\n",
              "  </tbody>\n",
              "</table>\n",
              "</div>"
            ],
            "text/plain": [
              "   CustomerID   Genre  Age  Annual Income (k$)  Spending Score (1-100)\n",
              "0           1    Male   19                  15                      39\n",
              "1           2    Male   21                  15                      81\n",
              "2           3  Female   20                  16                       6\n",
              "3           4  Female   23                  16                      77\n",
              "4           5  Female   31                  17                      40"
            ]
          },
          "metadata": {
            "tags": []
          },
          "execution_count": 82
        }
      ]
    },
    {
      "cell_type": "code",
      "metadata": {
        "id": "Es1JVPEUFQnx"
      },
      "source": [
        "#we will be ussing last two columns for clustering\n",
        "X = data.iloc[:,[3,4]].values"
      ],
      "execution_count": 83,
      "outputs": []
    },
    {
      "cell_type": "markdown",
      "metadata": {
        "id": "MGMyL8jqFlvo"
      },
      "source": [
        "##Check the Data"
      ]
    },
    {
      "cell_type": "code",
      "metadata": {
        "colab": {
          "base_uri": "https://localhost:8080/"
        },
        "id": "fwELWe3BFqWP",
        "outputId": "4838bf45-5cd4-47e9-cda9-171794912ad4"
      },
      "source": [
        "X.shape"
      ],
      "execution_count": 85,
      "outputs": [
        {
          "output_type": "execute_result",
          "data": {
            "text/plain": [
              "(200, 2)"
            ]
          },
          "metadata": {
            "tags": []
          },
          "execution_count": 85
        }
      ]
    },
    {
      "cell_type": "code",
      "metadata": {
        "colab": {
          "base_uri": "https://localhost:8080/"
        },
        "id": "MGF1QNxgFtA5",
        "outputId": "97d81e20-d332-4570-fdb5-ab4935535064"
      },
      "source": [
        "array_sum = np.sum(X)\n",
        "array_null = np.isnan(array_sum)\n",
        "print(array_null)"
      ],
      "execution_count": 86,
      "outputs": [
        {
          "output_type": "stream",
          "text": [
            "False\n"
          ],
          "name": "stdout"
        }
      ]
    },
    {
      "cell_type": "code",
      "metadata": {
        "id": "D9kFMf7oGE51"
      },
      "source": [
        "#as the output is false this means we don't have any null values and we cna move on"
      ],
      "execution_count": 87,
      "outputs": []
    },
    {
      "cell_type": "code",
      "metadata": {
        "colab": {
          "base_uri": "https://localhost:8080/"
        },
        "id": "6LMx6ucUGSyP",
        "outputId": "958010c3-ae6c-4b8f-f0b0-7720f8eb50d0"
      },
      "source": [
        "#check for datatype\n",
        "X.dtype"
      ],
      "execution_count": 88,
      "outputs": [
        {
          "output_type": "execute_result",
          "data": {
            "text/plain": [
              "dtype('int64')"
            ]
          },
          "metadata": {
            "tags": []
          },
          "execution_count": 88
        }
      ]
    },
    {
      "cell_type": "code",
      "metadata": {
        "id": "nWx9pLB8GXsx"
      },
      "source": [
        "#as the datype is integer no need for conversion"
      ],
      "execution_count": 89,
      "outputs": []
    },
    {
      "cell_type": "markdown",
      "metadata": {
        "id": "GjgPuQhnGdtR"
      },
      "source": [
        "##Compile and Fit the model"
      ]
    },
    {
      "cell_type": "code",
      "metadata": {
        "id": "miLXylsDGcRs"
      },
      "source": [
        "dbscan = DBSCAN(eps=9,min_samples=4)"
      ],
      "execution_count": 185,
      "outputs": []
    },
    {
      "cell_type": "code",
      "metadata": {
        "colab": {
          "base_uri": "https://localhost:8080/"
        },
        "id": "TbUvfNu3Gm62",
        "outputId": "3000dffe-d8ac-444f-bfc8-33b731904857"
      },
      "source": [
        "model = dbscan.fit(X)\n",
        "model"
      ],
      "execution_count": 186,
      "outputs": [
        {
          "output_type": "execute_result",
          "data": {
            "text/plain": [
              "DBSCAN(algorithm='auto', eps=9, leaf_size=30, metric='euclidean',\n",
              "       metric_params=None, min_samples=4, n_jobs=None, p=None)"
            ]
          },
          "metadata": {
            "tags": []
          },
          "execution_count": 186
        }
      ]
    },
    {
      "cell_type": "markdown",
      "metadata": {
        "id": "AxGDR9nsGw0Q"
      },
      "source": [
        "##Collecting the labels "
      ]
    },
    {
      "cell_type": "code",
      "metadata": {
        "id": "1CngsLE9GrU9"
      },
      "source": [
        "labels  = model.labels_"
      ],
      "execution_count": 187,
      "outputs": []
    },
    {
      "cell_type": "code",
      "metadata": {
        "colab": {
          "base_uri": "https://localhost:8080/"
        },
        "id": "LTHSn9_wJGVI",
        "outputId": "fcd768c7-4273-4ade-f41f-ec607af45b5f"
      },
      "source": [
        "print(len(labels))"
      ],
      "execution_count": 188,
      "outputs": [
        {
          "output_type": "stream",
          "text": [
            "200\n"
          ],
          "name": "stdout"
        }
      ]
    },
    {
      "cell_type": "code",
      "metadata": {
        "id": "HnDRPlA-G30Q"
      },
      "source": [
        "from sklearn import metrics"
      ],
      "execution_count": 189,
      "outputs": []
    },
    {
      "cell_type": "code",
      "metadata": {
        "id": "fl78wFwBHCSf"
      },
      "source": [
        "#identifying the points which makes up our core points\n",
        "labels_1 = np.zeros_like(labels, dtype=bool)"
      ],
      "execution_count": 190,
      "outputs": []
    },
    {
      "cell_type": "code",
      "metadata": {
        "id": "W2-XtcKwHJTJ"
      },
      "source": [
        "labels_1[dbscan.core_sample_indices_]= True\n"
      ],
      "execution_count": 191,
      "outputs": []
    },
    {
      "cell_type": "code",
      "metadata": {
        "id": "0doOYptJHVAF"
      },
      "source": [
        "\n",
        "#Calculating the number of clusters\n",
        "\n",
        "n_clusters = len(set(labels))- (1 if -1 in labels else 0)"
      ],
      "execution_count": 192,
      "outputs": []
    },
    {
      "cell_type": "code",
      "metadata": {
        "colab": {
          "base_uri": "https://localhost:8080/"
        },
        "id": "jicIBrrxHXpk",
        "outputId": "20fe4936-841b-430e-e12a-a8fd7e270710"
      },
      "source": [
        "print(n_clusters)"
      ],
      "execution_count": 193,
      "outputs": [
        {
          "output_type": "stream",
          "text": [
            "7\n"
          ],
          "name": "stdout"
        }
      ]
    },
    {
      "cell_type": "code",
      "metadata": {
        "colab": {
          "base_uri": "https://localhost:8080/"
        },
        "id": "NHT0rPYkHZWg",
        "outputId": "b4ef20c7-8da9-45f5-94f3-e324cc8f984e"
      },
      "source": [
        "print(metrics.silhouette_score(X,labels))"
      ],
      "execution_count": 194,
      "outputs": [
        {
          "output_type": "stream",
          "text": [
            "0.4259680122384905\n"
          ],
          "name": "stdout"
        }
      ]
    },
    {
      "cell_type": "markdown",
      "metadata": {
        "id": "o7vEsHYUIe9U"
      },
      "source": [
        "##Plot the data"
      ]
    },
    {
      "cell_type": "code",
      "metadata": {
        "id": "8XmTw_LwIS7Y"
      },
      "source": [
        "import matplotlib.pyplot as plt\n"
      ],
      "execution_count": 195,
      "outputs": []
    },
    {
      "cell_type": "code",
      "metadata": {
        "colab": {
          "base_uri": "https://localhost:8080/",
          "height": 281
        },
        "id": "BdqXjGsdHcVq",
        "outputId": "e06b0bc1-55f0-4914-a0f5-9d4208bc2438"
      },
      "source": [
        "unique_labels = set(labels)\n",
        "colors = [plt.cm.Spectral(each)\n",
        "          for each in np.linspace(0, 1, len(unique_labels))]\n",
        "for k, col in zip(unique_labels, colors):\n",
        "    if k == -1:\n",
        "        # Black used for noise.\n",
        "        col = [0, 0, 0, 1]\n",
        "\n",
        "    class_member_mask = (labels == k)\n",
        "\n",
        "    xy = X[class_member_mask & labels_1]\n",
        "    plt.plot(xy[:, 0], xy[:, 1], 'o', markerfacecolor=tuple(col),\n",
        "             markeredgecolor='k', markersize=14)\n",
        "\n",
        "    xy = X[class_member_mask & ~labels_1]\n",
        "    plt.plot(xy[:, 0], xy[:, 1], 'o', markerfacecolor=tuple(col),\n",
        "             markeredgecolor='k', markersize=6)\n",
        "\n",
        "plt.title('Estimated number of clusters: %d' % n_clusters)\n",
        "plt.show()"
      ],
      "execution_count": 196,
      "outputs": [
        {
          "output_type": "display_data",
          "data": {
            "image/png": "[encoded data removed]",
            "text/plain": [
              "<Figure size 432x288 with 1 Axes>"
            ]
          },
          "metadata": {
            "tags": [],
            "needs_background": "light"
          }
        }
      ]
    },
    {
      "cell_type": "code",
      "metadata": {
        "id": "DDDBVanHI4Ow"
      },
      "source": [
        ""
      ],
      "execution_count": 196,
      "outputs": []
    }
  ]
}